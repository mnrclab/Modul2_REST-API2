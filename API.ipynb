{
 "cells": [
  {
   "cell_type": "markdown",
   "metadata": {},
   "source": [
    "# **REST API**"
   ]
  },
  {
   "cell_type": "code",
   "execution_count": 1,
   "metadata": {},
   "outputs": [],
   "source": [
    "import pandas as pd\n",
    "import requests\n",
    "from IPython.display import display"
   ]
  },
  {
   "cell_type": "markdown",
   "metadata": {},
   "source": [
    "<hr>\n",
    "\n",
    "# **Latihan REST API dari Zomato**"
   ]
  },
  {
   "cell_type": "markdown",
   "metadata": {},
   "source": [
    "### Search Restaurant Categories in Zomato's Database"
   ]
  },
  {
   "cell_type": "code",
   "execution_count": 2,
   "metadata": {},
   "outputs": [
    {
     "data": {
      "text/plain": [
       "<Response [200]>"
      ]
     },
     "execution_count": 2,
     "metadata": {},
     "output_type": "execute_result"
    }
   ],
   "source": [
    "host = 'https://developers.zomato.com/api/v2.1/'\n",
    "kategori = '/categories'\n",
    "apikey = 'a0db0542879222e54be4e96eeb888056'\n",
    "headInfo = {'user-key': apikey}\n",
    "\n",
    "url = host + kategori\n",
    "data = requests.get(url, headers = headInfo)\n",
    "data"
   ]
  },
  {
   "cell_type": "code",
   "execution_count": 3,
   "metadata": {},
   "outputs": [
    {
     "name": "stdout",
     "output_type": "stream",
     "text": [
      "['Delivery', 'Dine-out', 'Nightlife', 'Catching-up', 'Takeaway', 'Cafes', 'Daily Menus', 'Breakfast', 'Lunch', 'Dinner', 'Pubs & Bars', 'Pocket Friendly Delivery', 'Clubs & Lounges']\n"
     ]
    }
   ],
   "source": [
    "# data.json()['categories'][12]['categories']['name']\n",
    "\n",
    "categories = [data.json()['categories'][i]['categories']['name'] for i in range(len(data.json()['categories']))]\n",
    "print(categories)    "
   ]
  },
  {
   "cell_type": "markdown",
   "metadata": {},
   "source": [
    "### Search City ID"
   ]
  },
  {
   "cell_type": "code",
   "execution_count": 4,
   "metadata": {},
   "outputs": [
    {
     "name": "stdin",
     "output_type": "stream",
     "text": [
      "Dimana kamu berada?  bali\n"
     ]
    },
    {
     "data": {
      "text/plain": [
       "170"
      ]
     },
     "execution_count": 4,
     "metadata": {},
     "output_type": "execute_result"
    }
   ],
   "source": [
    "kota = input('Dimana kamu berada? ').lower()\n",
    "url = f'https://developers.zomato.com/api/v2.1/cities?q={kota}'\n",
    "apikey1 = 'a0db0542879222e54be4e96eeb888056'\n",
    "headInfo1 = {'user-key':apikey1}\n",
    "request_kota = requests.get(url, headers = headInfo1)\n",
    "id = request_kota.json()['location_suggestions'][0]['id']\n",
    "id"
   ]
  },
  {
   "cell_type": "markdown",
   "metadata": {},
   "source": [
    "### Search Restaurant in Specific City and Cuisine"
   ]
  },
  {
   "cell_type": "code",
   "execution_count": 5,
   "metadata": {},
   "outputs": [
    {
     "data": {
      "text/plain": [
       "<Response [200]>"
      ]
     },
     "execution_count": 5,
     "metadata": {},
     "output_type": "execute_result"
    }
   ],
   "source": [
    "food = 'sate'\n",
    "link = f'https://developers.zomato.com/api/v2.1/search?entity_id={id}&entity_type=city&q={food}'\n",
    "apikey2 = 'a0db0542879222e54be4e96eeb888056'\n",
    "headInfo2 = {'user-key': apikey2}\n",
    "data = requests.get(link, headers=headInfo2)\n",
    "data"
   ]
  },
  {
   "cell_type": "code",
   "execution_count": 6,
   "metadata": {},
   "outputs": [],
   "source": [
    "resto = data.json()['restaurants'][0]['restaurant']['name']\n",
    "alamat = data.json()['restaurants'][0]['restaurant']['location']['address']"
   ]
  },
  {
   "cell_type": "code",
   "execution_count": 7,
   "metadata": {},
   "outputs": [
    {
     "name": "stdout",
     "output_type": "stream",
     "text": [
      "\n",
      "Mau makan SATE di Kota BALI? \n",
      " Anda bisa datang ke SATE PLECING ARJUNA dengan alamat Jl. Arjuna No. 47, Denpasar Utara, Bali\n"
     ]
    }
   ],
   "source": [
    "print(f'\\nMau makan {(food).upper()} di Kota {(kota).upper()}? \\n Anda bisa datang ke {(resto).upper()} dengan alamat {alamat}')"
   ]
  },
  {
   "cell_type": "markdown",
   "metadata": {},
   "source": [
    "**Another Restaurant Suggestion**"
   ]
  },
  {
   "cell_type": "code",
   "execution_count": 8,
   "metadata": {},
   "outputs": [
    {
     "name": "stdin",
     "output_type": "stream",
     "text": [
      "\n",
      "Mau pilihan resto lain yang menjual SATE di kota BALI? (Y/N):  y\n"
     ]
    },
    {
     "name": "stdout",
     "output_type": "stream",
     "text": [
      "\n",
      "Restoran lain yang menyediakan SATE di kota BALI, \n",
      " Anda bisa mengunjungi SATE BABI BAWAH POHON dengan alamat Jl. Campuhan I - Dewi Sri, Legian, Bali\n"
     ]
    },
    {
     "name": "stdin",
     "output_type": "stream",
     "text": [
      "\n",
      "Mau pilihan resto lain yang menjual SATE di kota BALI? (Y/N):  n\n"
     ]
    }
   ],
   "source": [
    "Gate = (input(f'\\nMau pilihan resto lain yang menjual {food.upper()} di kota {kota.upper()}? (Y/N): ')).upper()\n",
    "indeks = 1\n",
    "while Gate == 'Y':\n",
    "    resto = []\n",
    "    alamat = []\n",
    "    for i in range(1):\n",
    "        resto.append((data.json()['restaurants'][indeks]['restaurant']['name']).upper())\n",
    "        alamat.append(data.json()['restaurants'][indeks]['restaurant']['location']['address'])\n",
    "    indeks += 1\n",
    "    print(f'\\nRestoran lain yang menyediakan {food.upper()} di kota {kota.upper()}, \\n Anda bisa mengunjungi {resto[0]} dengan alamat {alamat[0]}')\n",
    "    Gate = (input(f'\\nMau pilihan resto lain yang menjual {food.upper()} di kota {kota.upper()}? (Y/N): ')).upper()"
   ]
  },
  {
   "cell_type": "markdown",
   "metadata": {},
   "source": [
    "### **App for Searching Restaurants**"
   ]
  },
  {
   "cell_type": "code",
   "execution_count": 9,
   "metadata": {},
   "outputs": [
    {
     "name": "stdin",
     "output_type": "stream",
     "text": [
      "Dimana kamu berada?  jakarta\n",
      "Mau makan apa?  bubur\n"
     ]
    },
    {
     "name": "stdout",
     "output_type": "stream",
     "text": [
      "\n",
      "Mau makan BUBUR di Kota JAKARTA? \n",
      " Anda bisa datang ke BUBUR KWANG TUNG dengan alamat Jl. Wolter Monginsidi No. 49, Senopati, Jakarta\n"
     ]
    },
    {
     "name": "stdin",
     "output_type": "stream",
     "text": [
      "\n",
      "Mau pilihan resto lain yang menjual BUBUR di kota JAKARTA? (Y/N):  n\n"
     ]
    }
   ],
   "source": [
    "# SEARCH CITY\n",
    "kota = input('Dimana kamu berada? ').lower()\n",
    "url = f'https://developers.zomato.com/api/v2.1/cities?q={kota}'\n",
    "apikey1 = 'a0db0542879222e54be4e96eeb888056'\n",
    "headInfo1 = {'user-key':apikey1}\n",
    "request_kota = requests.get(url, headers = headInfo1)\n",
    "id = request_kota.json()['location_suggestions'][0]['id']\n",
    "\n",
    "# CARI RESTO BERDASARKAN FOOD AND CITY\n",
    "food = input('Mau makan apa? ').lower()\n",
    "link = f'https://developers.zomato.com/api/v2.1/search?entity_id={id}&entity_type=city&q={food}'\n",
    "apikey2 = 'a0db0542879222e54be4e96eeb888056'\n",
    "headInfo2 = {'user-key': apikey2}\n",
    "data = requests.get(link, headers=headInfo2)\n",
    "resto = data.json()['restaurants'][1]['restaurant']['name']\n",
    "alamat = data.json()['restaurants'][1]['restaurant']['location']['address']\n",
    "\n",
    "# ANOTHER SUGGESTION RESTAURANT\n",
    "print(f'\\nMau makan {(food).upper()} di Kota {(kota).upper()}? \\n Anda bisa datang ke {(resto).upper()} dengan alamat {alamat}')\n",
    "Gate = (input(f'\\nMau pilihan resto lain yang menjual {(food).upper()} di kota {(kota).upper()}? (Y/N): ')).upper()\n",
    "indeks = 1\n",
    "while Gate == 'Y':\n",
    "    resto = []\n",
    "    alamat = []\n",
    "    for i in range(1):\n",
    "        resto.append((data.json()['restaurants'][indeks]['restaurant']['name']).upper())\n",
    "        alamat.append(data.json()['restaurants'][indeks]['restaurant']['location']['address'])\n",
    "    indeks += 1\n",
    "    print(f'\\nRestoran lain yang menyediakan {(food).upper()} di kota {(kota).upper()}, \\n Anda bisa mengunjungi {resto[0]} dengan alamat {alamat[0]}')\n",
    "    Gate = (input(f'\\nMau pilihan resto lain yang menjual {(food).upper()} di kota {(kota).upper()}? (Y/N): ')).upper()"
   ]
  },
  {
   "cell_type": "markdown",
   "metadata": {},
   "source": [
    "<hr>\n",
    "\n",
    "# **Exercise**\n",
    "\n",
    "#### Alur untuk User:\n",
    "\n",
    "### **1. Where are you?**\n",
    "\n",
    "Jika kota yang diinput tidak ada di database, maka akan muncul pesan ``\"Sorry, your City isn't on our database. Try another cities! Thank you :-)\"``\n",
    "\n",
    "### **2. Search by:**\n",
    "```\n",
    "a. Menu\n",
    "b. Restaurant Category\n",
    "```\n",
    "\n",
    "### **3. Type your Menu/Category**\n",
    "\n",
    "### **4. Recommended Restaurant for You**\n",
    "\n",
    "Muncul daftar restoran sesuai menu/categori di kota tertentu. Data yang muncul:\n",
    "```\n",
    "a. Nama restoran,\n",
    "b. Alamat restoran,\n",
    "c. No.telp.\n",
    "d. Harga\n",
    "e. Waktu buka\n",
    "```"
   ]
  },
  {
   "cell_type": "markdown",
   "metadata": {},
   "source": [
    "<hr>\n",
    "\n",
    "### **Contoh Jawaban**"
   ]
  },
  {
   "cell_type": "code",
   "execution_count": 16,
   "metadata": {},
   "outputs": [
    {
     "name": "stdin",
     "output_type": "stream",
     "text": [
      "Where are you?  bali\n",
      "\n",
      "Wanna search by (1) MENU or (2) RESTAURANT CATEGORY?:  2\n"
     ]
    },
    {
     "name": "stdout",
     "output_type": "stream",
     "text": [
      "['Delivery', 'Dine-out', 'Nightlife', 'Catching-up', 'Takeaway', 'Cafes', 'Daily Menus', 'Breakfast', 'Lunch', 'Dinner', 'Pubs & Bars', 'Pocket Friendly Delivery', 'Clubs & Lounges']\n"
     ]
    },
    {
     "name": "stdin",
     "output_type": "stream",
     "text": [
      "Type ONE category restaurant:  lfafmafak\n"
     ]
    },
    {
     "name": "stdout",
     "output_type": "stream",
     "text": [
      "Sorry, this category (LFAFMAFAK) isn't on our database. Try another category! Thank you :-)\n"
     ]
    }
   ],
   "source": [
    "kota = input('Where are you? ').lower()\n",
    "url = f'https://developers.zomato.com/api/v2.1/cities?q={kota}'\n",
    "apikey = 'a0db0542879222e54be4e96eeb888056'\n",
    "headInfo = {'user-key':apikey}\n",
    "request_kota = requests.get(url, headers = headInfo)\n",
    "\n",
    "if request_kota.json()['location_suggestions'] != []:    \n",
    "    id = request_kota.json()['location_suggestions'][0]['id']\n",
    "    choice= input('\\nWanna search by (1) MENU or (2) RESTAURANT CATEGORY?: ')\n",
    "    if choice == '1':\n",
    "        food = input('\\nWhat do you want to order? ').lower()\n",
    "        link = f'https://developers.zomato.com/api/v2.1/search?entity_id={id}&entity_type=city&q={food}'\n",
    "        data = requests.get(link, headers = headInfo)\n",
    "        if data.json()['results_found'] == 0:\n",
    "            print(f\"Sorry, your order ({food.upper()}) isn't on our database. Try another menu! Thank you :-)\")\n",
    "        else:\n",
    "            df_menu = pd.DataFrame(\n",
    "                {\n",
    "                    'Name': [data.json()['restaurants'][i]['restaurant']['name'] for i in range(len(data.json()['restaurants']))],\n",
    "                    'Addres': [data.json()['restaurants'][i]['restaurant']['location']['address'] for i in range(len(data.json()['restaurants']))],\n",
    "                    'Operational Hours' : [data.json()['restaurants'][i]['restaurant']['timings'] for i in range(len(data.json()['restaurants']))],\n",
    "                    'Price for 2 person': [data.json()['restaurants'][i]['restaurant']['average_cost_for_two'] for i in range(len(data.json()['restaurants']))],\n",
    "                    'Phone': [data.json()['restaurants'][i]['restaurant']['phone_numbers'] for i in range(len(data.json()['restaurants']))]\n",
    "                })\n",
    "            print(f\"\\nHere's recommended restaurant for you to order {food.upper()} in {kota.upper()}:\")\n",
    "            display(df_menu.sort_values(by='Price for 2 person', ascending=False))\n",
    "            \n",
    "    elif choice == '2':\n",
    "        url = 'https://developers.zomato.com/api/v2.1/categories'\n",
    "        data = requests.get(url, headers = headInfo)\n",
    "        print([data.json()['categories'][i]['categories']['name'] for i in range(len(data.json()['categories']))])       \n",
    "        category = input('Type ONE category restaurant: ').lower()\n",
    "        link = f'https://developers.zomato.com/api/v2.1/search?entity_id={id}&entity_type=city&q={category}'\n",
    "        data1 = requests.get(link, headers=headInfo)\n",
    " \n",
    "        if data1.json()['results_found'] == 0:\n",
    "            print(f\"Sorry, this category ({category.upper()}) isn't on our database. Try another category! Thank you :-)\")\n",
    "        else:\n",
    "            df_menu = pd.DataFrame(\n",
    "                {\n",
    "                    'Name': [data1.json()['restaurants'][i]['restaurant']['name'] for i in range(len(data1.json()['restaurants']))],\n",
    "                    'Addres': [data1.json()['restaurants'][i]['restaurant']['location']['address'] for i in range(len(data1.json()['restaurants']))],\n",
    "                    'Operational Hours' : [data1.json()['restaurants'][i]['restaurant']['timings'] for i in range(len(data1.json()['restaurants']))],\n",
    "                    'Price for 2 person': [data1.json()['restaurants'][i]['restaurant']['average_cost_for_two'] for i in range(len(data1.json()['restaurants']))],\n",
    "                    'Phone': [data1.json()['restaurants'][i]['restaurant']['phone_numbers'] for i in range(len(data1.json()['restaurants']))]                    \n",
    "                })\n",
    "            print(f\"\\nHere's recommended {category.upper()} restaurant for you in {kota.upper()}:\")\n",
    "            display(df_menu.sort_values(by='Price for 2 person', ascending=False))     \n",
    "else:\n",
    "    print(f\"Sorry, {kota.upper()} isn't on our database. Try another cities! Thank you :-)\")"
   ]
  },
  {
   "cell_type": "code",
   "execution_count": null,
   "metadata": {},
   "outputs": [],
   "source": []
  }
 ],
 "metadata": {
  "kernelspec": {
   "display_name": "Python 3.8.1 32-bit",
   "language": "python",
   "name": "python38132bitf9f79e71b62e4503b25567c1d3914456"
  },
  "language_info": {
   "codemirror_mode": {
    "name": "ipython",
    "version": 3
   },
   "file_extension": ".py",
   "mimetype": "text/x-python",
   "name": "python",
   "nbconvert_exporter": "python",
   "pygments_lexer": "ipython3",
   "version": "3.8.1"
  }
 },
 "nbformat": 4,
 "nbformat_minor": 4
}
